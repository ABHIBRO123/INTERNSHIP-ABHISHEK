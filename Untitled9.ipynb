{
 "cells": [
  {
   "cell_type": "code",
   "execution_count": null,
   "id": "11a69f4c",
   "metadata": {},
   "outputs": [],
   "source": [
    "import re\n",
    "\n",
    "def factorial(n):\n",
    "    if n == 0 or n == 1:\n",
    "        return 1\n",
    "    else:\n",
    "        return n * factorial(n-1)\n",
    "\n",
    "# Taking input from the user\n",
    "num_str = input(\"Enter a number: \")\n",
    "\n",
    "# Using regular expression to check if the input is a non-negative integer\n",
    "if re.match(r'^\\d+$', num_str):\n",
    "    num = int(num_str)\n",
    "    result = factorial(num)\n",
    "    print(f\"The factorial of {num} is: {result}\")\n",
    "else:\n",
    "    print(\"Invalid input. Please enter a non-negative integer.\")\n"
   ]
  },
  {
   "cell_type": "code",
   "execution_count": null,
   "id": "6bf2e8d3",
   "metadata": {},
   "outputs": [],
   "source": [
    "import re\n",
    "\n",
    "def is_prime(n):\n",
    "    if n < 2:\n",
    "        return False\n",
    "    for i in range(2, int(n**0.5) + 1):\n",
    "        if n % i == 0:\n",
    "            return False\n",
    "    return True\n",
    "\n",
    "# Taking input from the user\n",
    "num_str = input(\"Enter a number: \")\n",
    "\n",
    "# Using regular expression to check if the input is a non-negative integer\n",
    "if re.match(r'^\\d+$', num_str):\n",
    "    num = int(num_str)\n",
    "    if is_prime(num):\n",
    "        print(f\"{num} is a prime number.\")\n",
    "    else:\n",
    "        print(f\"{num} is a composite number.\")\n",
    "else:\n",
    "    print(\"Invalid input. Please enter a non-negative integer.\")\n"
   ]
  },
  {
   "cell_type": "code",
   "execution_count": null,
   "id": "4ad00179",
   "metadata": {},
   "outputs": [],
   "source": []
  },
  {
   "cell_type": "code",
   "execution_count": null,
   "id": "ff30bc2f",
   "metadata": {},
   "outputs": [],
   "source": [
    "import re\n",
    "\n",
    "def find_third_side(side1, side2):\n",
    "    if side1 < 0 or side2 < 0:\n",
    "        return \"Invalid input. Side lengths must be non-negative.\"\n",
    "    else:\n",
    "        third_side = (side1**2 + side2**2)**0.5\n",
    "        return third_side\n",
    "\n",
    "# Taking input from the user\n",
    "side1_str = input(\"Enter the length of the first side: \")\n",
    "side2_str = input(\"Enter the length of the second side: \")\n",
    "\n",
    "# Using regular expressions to check if the input is a positive float or integer\n",
    "if re.match(r'^\\d+(\\.\\d+)?$', side1_str) and re.match(r'^\\d+(\\.\\d+)?$', side2_str):\n",
    "    side1 = float(side1_str)\n",
    "    side2 = float(side2_str)\n",
    "    \n",
    "    third_side = find_third_side(side1, side2)\n",
    "\n",
    "    if isinstance(third_side, str):\n",
    "        print(third_side)\n",
    "    else:\n",
    "        print(f\"The length of the third side is: {third_side}\")\n",
    "else:\n",
    "    print(\"Invalid input. Please enter positive numbers for side lengths.\")\n"
   ]
  },
  {
   "cell_type": "code",
   "execution_count": null,
   "id": "f07b4f43",
   "metadata": {},
   "outputs": [],
   "source": [
    "import re\n",
    "\n",
    "def character_frequency_regex(input_string):\n",
    "    frequency = {}\n",
    "    \n",
    "    # Use a regular expression to match alphanumeric characters\n",
    "    matches = re.findall(r'\\w', input_string)\n",
    "    \n",
    "    for char in matches:\n",
    "        frequency[char] = frequency.get(char, 0) + 1\n",
    "    \n",
    "    return frequency\n",
    "\n",
    "# Taking input from the user\n",
    "input_str = input(\"Enter a string: \")\n",
    "\n",
    "# Calculating character frequencies using regular expression\n",
    "result = character_frequency_regex(input_str)\n",
    "\n",
    "# Displaying the results\n",
    "print(\"Character frequencies:\")\n",
    "for char, count in result.items():\n",
    "    print(f\"'{char}': {count}\")\n"
   ]
  },
  {
   "cell_type": "code",
   "execution_count": null,
   "id": "8def75b8",
   "metadata": {},
   "outputs": [],
   "source": []
  }
 ],
 "metadata": {
  "kernelspec": {
   "display_name": "Python 3 (ipykernel)",
   "language": "python",
   "name": "python3"
  },
  "language_info": {
   "codemirror_mode": {
    "name": "ipython",
    "version": 3
   },
   "file_extension": ".py",
   "mimetype": "text/x-python",
   "name": "python",
   "nbconvert_exporter": "python",
   "pygments_lexer": "ipython3",
   "version": "3.11.5"
  }
 },
 "nbformat": 4,
 "nbformat_minor": 5
}
