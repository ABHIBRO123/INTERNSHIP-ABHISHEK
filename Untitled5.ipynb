{
 "cells": [
  {
   "cell_type": "code",
   "execution_count": 1,
   "id": "799e56ff",
   "metadata": {},
   "outputs": [
    {
     "name": "stdout",
     "output_type": "stream",
     "text": [
      "            SUMMARY\n",
      "0       hello world\n",
      "1        XXXXX test\n",
      "2  123four five six\n"
     ]
    }
   ],
   "source": [
    "import pandas as pd\n",
    "import re\n",
    "\n",
    "# Dictionary with data\n",
    "data = {'SUMMARY': ['hello, world!', 'XXXXX test', '123four, five:; six...']}\n",
    "\n",
    "# Create DataFrame\n",
    "df = pd.DataFrame(data)\n",
    "\n",
    "# Remove unwanted characters from the 'SUMMARY' column using regular expressions\n",
    "df['SUMMARY'] = df['SUMMARY'].apply(lambda x: re.sub(r'[^\\w\\s]', '', x))\n",
    "\n",
    "# Display the cleaned DataFrame\n",
    "print(df)\n"
   ]
  },
  {
   "cell_type": "code",
   "execution_count": 2,
   "id": "0cfafc4c",
   "metadata": {},
   "outputs": [
    {
     "ename": "SyntaxError",
     "evalue": "invalid syntax (2024029433.py, line 1)",
     "output_type": "error",
     "traceback": [
      "\u001b[1;36m  Cell \u001b[1;32mIn[2], line 1\u001b[1;36m\u001b[0m\n\u001b[1;33m    Create a function in python to find all words that are at least 4 characters long in a string. The use of the re.compile() method is mandatory.\u001b[0m\n\u001b[1;37m           ^\u001b[0m\n\u001b[1;31mSyntaxError\u001b[0m\u001b[1;31m:\u001b[0m invalid syntax\n"
     ]
    }
   ],
   "source": [
    "Create a function in python to find all words that are at least 4 characters long in a string. The use of the re.compile() method is mandatory.\n",
    "\n"
   ]
  },
  {
   "cell_type": "code",
   "execution_count": 3,
   "id": "cbb7851c",
   "metadata": {},
   "outputs": [
    {
     "name": "stdout",
     "output_type": "stream",
     "text": [
      "Words with at least four characters: ['This', 'sample', 'text', 'find', 'words', 'with', 'least', 'four', 'characters', 'like', 'hello', 'world', 'python', 'example']\n"
     ]
    }
   ],
   "source": [
    "import re\n",
    "\n",
    "def find_words_at_least_four_chars(text):\n",
    "    pattern = re.compile(r'\\b\\w{4,}\\b')  # Regex pattern to find words with at least 4 characters\n",
    "    matches = pattern.findall(text)\n",
    "    return matches\n",
    "\n",
    "# Example usage:\n",
    "input_text = \"This is a sample text to find words with at least four characters like hello, world, python, example\"\n",
    "result = find_words_at_least_four_chars(input_text)\n",
    "print(\"Words with at least four characters:\", result)\n"
   ]
  },
  {
   "cell_type": "code",
   "execution_count": 4,
   "id": "22db2741",
   "metadata": {},
   "outputs": [
    {
     "ename": "SyntaxError",
     "evalue": "invalid syntax (2375771656.py, line 1)",
     "output_type": "error",
     "traceback": [
      "\u001b[1;36m  Cell \u001b[1;32mIn[4], line 1\u001b[1;36m\u001b[0m\n\u001b[1;33m    Create a function in python to find all three, four, and five character words in a string. The use of the re.compile() method is mandatory.\u001b[0m\n\u001b[1;37m           ^\u001b[0m\n\u001b[1;31mSyntaxError\u001b[0m\u001b[1;31m:\u001b[0m invalid syntax\n"
     ]
    }
   ],
   "source": [
    "Create a function in python to find all three, four, and five character words in a string. The use of the re.compile() method is mandatory.\n",
    "\n",
    "import re\n",
    "\n",
    "def find_words_three_to_five_chars(text):\n",
    "    pattern = re.compile(r'\\b\\w{3,5}\\b')  # Regex pattern to find words with 3, 4, or 5 characters\n",
    "    matches = pattern.findall(text)\n",
    "    return matches\n",
    "\n",
    "# Example usage:\n",
    "input_text = \"This is a sample text to find words with three, four, or five characters like hello, world, python, example\"\n",
    "result = find_words_three_to_five_chars(input_text)\n",
    "print(\"Words with three, four, or five characters:\", result)\n"
   ]
  },
  {
   "cell_type": "code",
   "execution_count": 5,
   "id": "61fe196f",
   "metadata": {},
   "outputs": [
    {
     "name": "stdout",
     "output_type": "stream",
     "text": [
      "Words with three, four, or five characters: ['This', 'text', 'find', 'words', 'with', 'three', 'four', 'five', 'like', 'hello', 'world']\n"
     ]
    }
   ],
   "source": [
    "import re\n",
    "\n",
    "def find_words_three_to_five_chars(text):\n",
    "    pattern = re.compile(r'\\b\\w{3,5}\\b')  # Regex pattern to find words with 3, 4, or 5 characters\n",
    "    matches = pattern.findall(text)\n",
    "    return matches\n",
    "\n",
    "# Example usage:\n",
    "input_text = \"This is a sample text to find words with three, four, or five characters like hello, world, python, example\"\n",
    "result = find_words_three_to_five_chars(input_text)\n",
    "print(\"Words with three, four, or five characters:\", result)\n"
   ]
  },
  {
   "cell_type": "code",
   "execution_count": 6,
   "id": "de5db7bb",
   "metadata": {},
   "outputs": [
    {
     "name": "stdout",
     "output_type": "stream",
     "text": [
      "Strings after removing parentheses:\n",
      "Remove  from this string\n",
      "Another string with   parentheses\n",
      "A string  parentheses\n"
     ]
    }
   ],
   "source": [
    "import re\n",
    "\n",
    "def remove_parentheses(strings):\n",
    "    pattern = re.compile(r'\\([^)]*\\)')  # Regex pattern to match parentheses and content inside them\n",
    "    modified_strings = [pattern.sub('', s) for s in strings]\n",
    "    return modified_strings\n",
    "\n",
    "# Example usage:\n",
    "input_strings = [\n",
    "    \"Remove (parentheses) from this string\",\n",
    "    \"Another string with (multiple) (sets of) parentheses\",\n",
    "    \"A string (with no) parentheses\"\n",
    "]\n",
    "\n",
    "result = remove_parentheses(input_strings)\n",
    "print(\"Strings after removing parentheses:\")\n",
    "for string in result:\n",
    "    print(string)\n"
   ]
  },
  {
   "cell_type": "code",
   "execution_count": 7,
   "id": "7c481991",
   "metadata": {},
   "outputs": [
    {
     "name": "stdout",
     "output_type": "stream",
     "text": [
      "Strings after removing parentheses:\n",
      "example .com\n",
      "hr@fliprobo .com\n",
      "github .com\n",
      "Hello Data Science World\n",
      "Data Scientist\n"
     ]
    }
   ],
   "source": [
    "import re\n",
    "\n",
    "def remove_parentheses(strings):\n",
    "    pattern = re.compile(r'\\(|\\)')  # Regex pattern to match parentheses\n",
    "    modified_strings = [pattern.sub('', s) for s in strings]\n",
    "    return modified_strings\n",
    "\n",
    "# Sample Text\n",
    "sample_text = [\n",
    "    \"example (.com)\",\n",
    "    \"hr@fliprobo (.com)\",\n",
    "    \"github (.com)\",\n",
    "    \"Hello (Data Science World)\",\n",
    "    \"Data (Scientist)\"\n",
    "]\n",
    "\n",
    "result = remove_parentheses(sample_text)\n",
    "print(\"Strings after removing parentheses:\")\n",
    "for string in result:\n",
    "    print(string)\n"
   ]
  },
  {
   "cell_type": "code",
   "execution_count": 8,
   "id": "6fac1414",
   "metadata": {},
   "outputs": [
    {
     "ename": "FileNotFoundError",
     "evalue": "[Errno 2] No such file or directory: 'input.txt'",
     "output_type": "error",
     "traceback": [
      "\u001b[1;31m---------------------------------------------------------------------------\u001b[0m",
      "\u001b[1;31mFileNotFoundError\u001b[0m                         Traceback (most recent call last)",
      "Cell \u001b[1;32mIn[8], line 9\u001b[0m\n\u001b[0;32m      6\u001b[0m     \u001b[38;5;28;01mreturn\u001b[39;00m modified_text\n\u001b[0;32m      8\u001b[0m \u001b[38;5;66;03m# Read text from file\u001b[39;00m\n\u001b[1;32m----> 9\u001b[0m \u001b[38;5;28;01mwith\u001b[39;00m \u001b[38;5;28mopen\u001b[39m(\u001b[38;5;124m'\u001b[39m\u001b[38;5;124minput.txt\u001b[39m\u001b[38;5;124m'\u001b[39m, \u001b[38;5;124m'\u001b[39m\u001b[38;5;124mr\u001b[39m\u001b[38;5;124m'\u001b[39m) \u001b[38;5;28;01mas\u001b[39;00m file:\n\u001b[0;32m     10\u001b[0m     text \u001b[38;5;241m=\u001b[39m file\u001b[38;5;241m.\u001b[39mread()\n\u001b[0;32m     12\u001b[0m \u001b[38;5;66;03m# Remove parentheses from the text using the function\u001b[39;00m\n",
      "File \u001b[1;32m~\\anaconda3\\Lib\\site-packages\\IPython\\core\\interactiveshell.py:286\u001b[0m, in \u001b[0;36m_modified_open\u001b[1;34m(file, *args, **kwargs)\u001b[0m\n\u001b[0;32m    279\u001b[0m \u001b[38;5;28;01mif\u001b[39;00m file \u001b[38;5;129;01min\u001b[39;00m {\u001b[38;5;241m0\u001b[39m, \u001b[38;5;241m1\u001b[39m, \u001b[38;5;241m2\u001b[39m}:\n\u001b[0;32m    280\u001b[0m     \u001b[38;5;28;01mraise\u001b[39;00m \u001b[38;5;167;01mValueError\u001b[39;00m(\n\u001b[0;32m    281\u001b[0m         \u001b[38;5;124mf\u001b[39m\u001b[38;5;124m\"\u001b[39m\u001b[38;5;124mIPython won\u001b[39m\u001b[38;5;124m'\u001b[39m\u001b[38;5;124mt let you open fd=\u001b[39m\u001b[38;5;132;01m{\u001b[39;00mfile\u001b[38;5;132;01m}\u001b[39;00m\u001b[38;5;124m by default \u001b[39m\u001b[38;5;124m\"\u001b[39m\n\u001b[0;32m    282\u001b[0m         \u001b[38;5;124m\"\u001b[39m\u001b[38;5;124mas it is likely to crash IPython. If you know what you are doing, \u001b[39m\u001b[38;5;124m\"\u001b[39m\n\u001b[0;32m    283\u001b[0m         \u001b[38;5;124m\"\u001b[39m\u001b[38;5;124myou can use builtins\u001b[39m\u001b[38;5;124m'\u001b[39m\u001b[38;5;124m open.\u001b[39m\u001b[38;5;124m\"\u001b[39m\n\u001b[0;32m    284\u001b[0m     )\n\u001b[1;32m--> 286\u001b[0m \u001b[38;5;28;01mreturn\u001b[39;00m io_open(file, \u001b[38;5;241m*\u001b[39margs, \u001b[38;5;241m*\u001b[39m\u001b[38;5;241m*\u001b[39mkwargs)\n",
      "\u001b[1;31mFileNotFoundError\u001b[0m: [Errno 2] No such file or directory: 'input.txt'"
     ]
    }
   ],
   "source": [
    "import re\n",
    "\n",
    "def remove_parentheses(text):\n",
    "    pattern = re.compile(r'\\([^)]*\\)')  # Regex pattern to match parentheses and content inside them\n",
    "    modified_text = pattern.sub('', text)\n",
    "    return modified_text\n",
    "\n",
    "# Read text from file\n",
    "with open('input.txt', 'r') as file:\n",
    "    text = file.read()\n",
    "\n",
    "# Remove parentheses from the text using the function\n",
    "modified_text = remove_parentheses(text)\n",
    "\n",
    "# Write modified text back to the file\n",
    "with open('output.txt', 'w') as file:\n",
    "    file.write(modified_text)\n",
    "\n",
    "print(\"Content with parentheses removed and saved to output.txt file.\")\n"
   ]
  },
  {
   "cell_type": "code",
   "execution_count": 9,
   "id": "d83c7007",
   "metadata": {},
   "outputs": [
    {
     "data": {
      "text/plain": [
       "['example (.com)',\n",
       " 'hr@fliprobo (.com)',\n",
       " 'github (.com)',\n",
       " 'Hello (Data Science World)',\n",
       " 'Data (Scientist)']"
      ]
     },
     "execution_count": 9,
     "metadata": {},
     "output_type": "execute_result"
    }
   ],
   "source": [
    "[\"example (.com)\", \"hr@fliprobo (.com)\", \"github (.com)\", \"Hello (Data Science World)\", \"Data (Scientist)\"]\n"
   ]
  },
  {
   "cell_type": "code",
   "execution_count": 10,
   "id": "1bb11f11",
   "metadata": {},
   "outputs": [
    {
     "name": "stdout",
     "output_type": "stream",
     "text": [
      "Uppercase letters: ['Importance', 'Of', 'Regular', 'Expressions', 'In', 'Python']\n"
     ]
    }
   ],
   "source": [
    "import re\n",
    "\n",
    "sample_text = \"ImportanceOfRegularExpressionsInPython\"\n",
    "\n",
    "# Split the string into uppercase letters using regex\n",
    "uppercase_letters = re.findall('[A-Z][^A-Z]*', sample_text)\n",
    "\n",
    "print(\"Uppercase letters:\", uppercase_letters)\n"
   ]
  },
  {
   "cell_type": "code",
   "execution_count": 11,
   "id": "1fa5d892",
   "metadata": {},
   "outputs": [
    {
     "name": "stdout",
     "output_type": "stream",
     "text": [
      "Modified text with spaces: RegularExpression1 IsAn2 ImportantTopic3 InPython\n"
     ]
    }
   ],
   "source": [
    "import re\n",
    "\n",
    "def insert_spaces(text):\n",
    "    modified_text = re.sub(r'(?<=\\d)(?=[A-Za-z])', ' ', text)\n",
    "    return modified_text\n",
    "\n",
    "# Sample Text\n",
    "sample_text = \"RegularExpression1IsAn2ImportantTopic3InPython\"\n",
    "\n",
    "# Insert spaces between words starting with numbers\n",
    "result = insert_spaces(sample_text)\n",
    "print(\"Modified text with spaces:\", result)\n"
   ]
  },
  {
   "cell_type": "code",
   "execution_count": 12,
   "id": "2005cddd",
   "metadata": {},
   "outputs": [
    {
     "name": "stdout",
     "output_type": "stream",
     "text": [
      "Modified text with spaces: RegularExpression1 IsAn2 ImportantTopic3 InPython\n"
     ]
    }
   ],
   "source": [
    "import re\n",
    "\n",
    "def insert_spaces(text):\n",
    "    modified_text = re.sub(r'(?<=[A-Z0-9])(?=[A-Z])', ' ', text)\n",
    "    return modified_text\n",
    "\n",
    "# Sample Text\n",
    "sample_text = \"RegularExpression1IsAn2ImportantTopic3InPython\"\n",
    "\n",
    "# Insert spaces between words starting with capital letters or numbers\n",
    "result = insert_spaces(sample_text)\n",
    "print(\"Modified text with spaces:\", result)\n"
   ]
  },
  {
   "cell_type": "code",
   "execution_count": 13,
   "id": "7fdff84c",
   "metadata": {},
   "outputs": [
    {
     "name": "stdout",
     "output_type": "stream",
     "text": [
      "String: Hello_World123, Matched: True\n",
      "String: This_is_a_test, Matched: True\n",
      "String: Test_123!!!, Matched: False\n",
      "String: GoodMorning, Matched: True\n"
     ]
    }
   ],
   "source": [
    "import re\n",
    "\n",
    "def match_string(text):\n",
    "    pattern = re.compile(r'^[a-zA-Z0-9_]*$')\n",
    "    match = pattern.match(text)\n",
    "    return bool(match)\n",
    "\n",
    "# Sample strings to test\n",
    "sample_strings = [\n",
    "    \"Hello_World123\",\n",
    "    \"This_is_a_test\",\n",
    "    \"Test_123!!!\",\n",
    "    \"GoodMorning\"\n",
    "]\n",
    "\n",
    "for string in sample_strings:\n",
    "    result = match_string(string)\n",
    "    print(f\"String: {string}, Matched: {result}\")\n"
   ]
  },
  {
   "cell_type": "code",
   "execution_count": 14,
   "id": "8ede7512",
   "metadata": {},
   "outputs": [
    {
     "name": "stdout",
     "output_type": "stream",
     "text": [
      "The string '123ABC' starts with the number 123.\n"
     ]
    }
   ],
   "source": [
    "def starts_with_number(text, number):\n",
    "    return text.startswith(str(number))\n",
    "\n",
    "# Sample string and number to check\n",
    "sample_string = \"123ABC\"\n",
    "specific_number = 123\n",
    "\n",
    "# Check if the string starts with the specific number\n",
    "result = starts_with_number(sample_string, specific_number)\n",
    "if result:\n",
    "    print(f\"The string '{sample_string}' starts with the number {specific_number}.\")\n",
    "else:\n",
    "    print(f\"The string '{sample_string}' does not start with the number {specific_number}.\")\n"
   ]
  },
  {
   "cell_type": "code",
   "execution_count": 15,
   "id": "5e78d2fa",
   "metadata": {},
   "outputs": [
    {
     "name": "stdout",
     "output_type": "stream",
     "text": [
      "IP address with leading zeros: 192.168.001.001\n",
      "IP address without leading zeros: 192.168.1.1\n"
     ]
    }
   ],
   "source": [
    "def remove_leading_zeros(ip_address):\n",
    "    # Split the IP address into individual octets and remove leading zeros\n",
    "    octets = [str(int(octet)) for octet in ip_address.split(\".\")]\n",
    "    return \".\".join(octets)\n",
    "\n",
    "# Sample IP address with leading zeros\n",
    "ip_with_zeros = \"192.168.001.001\"\n",
    "\n",
    "# Remove leading zeros from the IP address\n",
    "ip_without_zeros = remove_leading_zeros(ip_with_zeros)\n",
    "\n",
    "print(\"IP address with leading zeros:\", ip_with_zeros)\n",
    "print(\"IP address without leading zeros:\", ip_without_zeros)\n"
   ]
  },
  {
   "cell_type": "code",
   "execution_count": 16,
   "id": "a1d9b95e",
   "metadata": {},
   "outputs": [
    {
     "ename": "FileNotFoundError",
     "evalue": "[Errno 2] No such file or directory: 'sample_text.txt'",
     "output_type": "error",
     "traceback": [
      "\u001b[1;31m---------------------------------------------------------------------------\u001b[0m",
      "\u001b[1;31mFileNotFoundError\u001b[0m                         Traceback (most recent call last)",
      "Cell \u001b[1;32mIn[16], line 14\u001b[0m\n\u001b[0;32m     11\u001b[0m file_path \u001b[38;5;241m=\u001b[39m \u001b[38;5;124m'\u001b[39m\u001b[38;5;124msample_text.txt\u001b[39m\u001b[38;5;124m'\u001b[39m\n\u001b[0;32m     13\u001b[0m \u001b[38;5;66;03m# Find dates in the text file\u001b[39;00m\n\u001b[1;32m---> 14\u001b[0m date_matches \u001b[38;5;241m=\u001b[39m find_dates_in_text(file_path)\n\u001b[0;32m     15\u001b[0m \u001b[38;5;28mprint\u001b[39m(\u001b[38;5;124m\"\u001b[39m\u001b[38;5;124mDate strings found in the text:\u001b[39m\u001b[38;5;124m\"\u001b[39m)\n\u001b[0;32m     16\u001b[0m \u001b[38;5;28;01mfor\u001b[39;00m date \u001b[38;5;129;01min\u001b[39;00m date_matches:\n",
      "Cell \u001b[1;32mIn[16], line 4\u001b[0m, in \u001b[0;36mfind_dates_in_text\u001b[1;34m(file_path)\u001b[0m\n\u001b[0;32m      3\u001b[0m \u001b[38;5;28;01mdef\u001b[39;00m \u001b[38;5;21mfind_dates_in_text\u001b[39m(file_path):\n\u001b[1;32m----> 4\u001b[0m     \u001b[38;5;28;01mwith\u001b[39;00m \u001b[38;5;28mopen\u001b[39m(file_path, \u001b[38;5;124m'\u001b[39m\u001b[38;5;124mr\u001b[39m\u001b[38;5;124m'\u001b[39m) \u001b[38;5;28;01mas\u001b[39;00m file:\n\u001b[0;32m      5\u001b[0m         text \u001b[38;5;241m=\u001b[39m file\u001b[38;5;241m.\u001b[39mread()\n\u001b[0;32m      6\u001b[0m         pattern \u001b[38;5;241m=\u001b[39m re\u001b[38;5;241m.\u001b[39mcompile(\u001b[38;5;124mr\u001b[39m\u001b[38;5;124m'\u001b[39m\u001b[38;5;124m\\\u001b[39m\u001b[38;5;124mb(January|February|March|April|May|June|July|August|September|October|November|December)\u001b[39m\u001b[38;5;124m\\\u001b[39m\u001b[38;5;124ms+\u001b[39m\u001b[38;5;124m\\\u001b[39m\u001b[38;5;124md\u001b[39m\u001b[38;5;124m{\u001b[39m\u001b[38;5;124m1,2}(st|nd|rd|th)?\u001b[39m\u001b[38;5;124m\\\u001b[39m\u001b[38;5;124ms+\u001b[39m\u001b[38;5;124m\\\u001b[39m\u001b[38;5;124md\u001b[39m\u001b[38;5;132;01m{4}\u001b[39;00m\u001b[38;5;124m\\\u001b[39m\u001b[38;5;124mb\u001b[39m\u001b[38;5;124m'\u001b[39m)\n",
      "File \u001b[1;32m~\\anaconda3\\Lib\\site-packages\\IPython\\core\\interactiveshell.py:286\u001b[0m, in \u001b[0;36m_modified_open\u001b[1;34m(file, *args, **kwargs)\u001b[0m\n\u001b[0;32m    279\u001b[0m \u001b[38;5;28;01mif\u001b[39;00m file \u001b[38;5;129;01min\u001b[39;00m {\u001b[38;5;241m0\u001b[39m, \u001b[38;5;241m1\u001b[39m, \u001b[38;5;241m2\u001b[39m}:\n\u001b[0;32m    280\u001b[0m     \u001b[38;5;28;01mraise\u001b[39;00m \u001b[38;5;167;01mValueError\u001b[39;00m(\n\u001b[0;32m    281\u001b[0m         \u001b[38;5;124mf\u001b[39m\u001b[38;5;124m\"\u001b[39m\u001b[38;5;124mIPython won\u001b[39m\u001b[38;5;124m'\u001b[39m\u001b[38;5;124mt let you open fd=\u001b[39m\u001b[38;5;132;01m{\u001b[39;00mfile\u001b[38;5;132;01m}\u001b[39;00m\u001b[38;5;124m by default \u001b[39m\u001b[38;5;124m\"\u001b[39m\n\u001b[0;32m    282\u001b[0m         \u001b[38;5;124m\"\u001b[39m\u001b[38;5;124mas it is likely to crash IPython. If you know what you are doing, \u001b[39m\u001b[38;5;124m\"\u001b[39m\n\u001b[0;32m    283\u001b[0m         \u001b[38;5;124m\"\u001b[39m\u001b[38;5;124myou can use builtins\u001b[39m\u001b[38;5;124m'\u001b[39m\u001b[38;5;124m open.\u001b[39m\u001b[38;5;124m\"\u001b[39m\n\u001b[0;32m    284\u001b[0m     )\n\u001b[1;32m--> 286\u001b[0m \u001b[38;5;28;01mreturn\u001b[39;00m io_open(file, \u001b[38;5;241m*\u001b[39margs, \u001b[38;5;241m*\u001b[39m\u001b[38;5;241m*\u001b[39mkwargs)\n",
      "\u001b[1;31mFileNotFoundError\u001b[0m: [Errno 2] No such file or directory: 'sample_text.txt'"
     ]
    }
   ],
   "source": [
    "import re\n",
    "\n",
    "def find_dates_in_text(file_path):\n",
    "    with open(file_path, 'r') as file:\n",
    "        text = file.read()\n",
    "        pattern = re.compile(r'\\b(January|February|March|April|May|June|July|August|September|October|November|December)\\s+\\d{1,2}(st|nd|rd|th)?\\s+\\d{4}\\b')\n",
    "        dates = pattern.findall(text)\n",
    "        return dates\n",
    "\n",
    "# Sample text file path\n",
    "file_path = 'sample_text.txt'\n",
    "\n",
    "# Find dates in the text file\n",
    "date_matches = find_dates_in_text(file_path)\n",
    "print(\"Date strings found in the text:\")\n",
    "for date in date_matches:\n",
    "    print(' '.join(date))\n"
   ]
  },
  {
   "cell_type": "code",
   "execution_count": 17,
   "id": "c06b6333",
   "metadata": {},
   "outputs": [
    {
     "name": "stdout",
     "output_type": "stream",
     "text": [
      "'quick' found in the text.\n",
      "'fox' found in the text.\n",
      "'lazy' found in the text.\n"
     ]
    }
   ],
   "source": [
    "def search_strings(text):\n",
    "    strings_to_search = [\"quick\", \"fox\", \"lazy\"]  # List of strings to search for\n",
    "    \n",
    "    for string in strings_to_search:\n",
    "        if string in text:\n",
    "            print(f\"'{string}' found in the text.\")\n",
    "        else:\n",
    "            print(f\"'{string}' not found in the text.\")\n",
    "\n",
    "# Sample text\n",
    "sample_text = 'The quick brown fox jumps over the lazy dog.'\n",
    "\n",
    "# Perform the search\n",
    "search_strings(sample_text)\n"
   ]
  },
  {
   "cell_type": "code",
   "execution_count": 18,
   "id": "6b38541e",
   "metadata": {},
   "outputs": [
    {
     "name": "stdout",
     "output_type": "stream",
     "text": [
      "The substring 'exercises' is found at positions: [7, 22, 36]\n"
     ]
    }
   ],
   "source": [
    "import re\n",
    "\n",
    "def find_substrings_regex(text, substring):\n",
    "    matches = re.finditer(substring, text)\n",
    "    positions = [match.start() for match in matches]\n",
    "    return positions\n",
    "\n",
    "# Sample text and substring to find\n",
    "sample_text = 'Python exercises, PHP exercises, C# exercises'\n",
    "substring_to_find = 'exercises'\n",
    "\n",
    "# Find occurrences of the substring in the text using regex\n",
    "substrings_found = find_substrings_regex(sample_text, substring_to_find)\n",
    "if substrings_found:\n",
    "    print(f\"The substring '{substring_to_find}' is found at positions: {substrings_found}\")\n",
    "else:\n",
    "    print(f\"The substring '{substring_to_find}' is not found in the text.\")\n"
   ]
  },
  {
   "cell_type": "code",
   "execution_count": 19,
   "id": "de8d743b",
   "metadata": {},
   "outputs": [
    {
     "name": "stdout",
     "output_type": "stream",
     "text": [
      "The substring 'exercises' is found at positions: [7, 22, 36]\n"
     ]
    }
   ],
   "source": [
    "import re\n",
    "\n",
    "def find_substrings_regex(text, substring):\n",
    "    matches = re.finditer(substring, text)\n",
    "    positions = [match.start() for match in matches]\n",
    "    return positions\n",
    "\n",
    "# Sample text and substring to find\n",
    "sample_text = 'Python exercises, PHP exercises, C# exercises'\n",
    "substring_to_find = 'exercises'\n",
    "\n",
    "# Find occurrences of the substring in the text using regex\n",
    "substrings_found = find_substrings_regex(sample_text, substring_to_find)\n",
    "if substrings_found:\n",
    "    print(f\"The substring '{substring_to_find}' is found at positions: {substrings_found}\")\n",
    "else:\n",
    "    print(f\"The substring '{substring_to_find}' is not found in the text.\")\n"
   ]
  },
  {
   "cell_type": "code",
   "execution_count": 20,
   "id": "2beac779",
   "metadata": {},
   "outputs": [
    {
     "name": "stdout",
     "output_type": "stream",
     "text": [
      "The substring 'Python' occurrences and positions:\n",
      "Occurrence: Python, Position: 0\n",
      "Occurrence: Python, Position: 47\n",
      "Occurrence: Python, Position: 67\n"
     ]
    }
   ],
   "source": [
    "def find_occurrences_positions(text, substring):\n",
    "    start = 0\n",
    "    occurrences = []\n",
    "    while True:\n",
    "        start = text.find(substring, start)\n",
    "        if start == -1:\n",
    "            break\n",
    "        occurrences.append((substring, start))\n",
    "        start += 1\n",
    "    return occurrences\n",
    "\n",
    "# Sample text and substring to find\n",
    "sample_text = 'Python exercises, PHP exercises, C# exercises, Python is great for Pythonistas'\n",
    "substring_to_find = 'Python'\n",
    "\n",
    "# Find occurrences and positions of the substring in the text\n",
    "substrings_occurrences_positions = find_occurrences_positions(sample_text, substring_to_find)\n",
    "if substrings_occurrences_positions:\n",
    "    print(f\"The substring '{substring_to_find}' occurrences and positions:\")\n",
    "    for occurrence, position in substrings_occurrences_positions:\n",
    "        print(f\"Occurrence: {occurrence}, Position: {position}\")\n",
    "else:\n",
    "    print(f\"The substring '{substring_to_find}' is not found in the text.\")\n"
   ]
  },
  {
   "cell_type": "code",
   "execution_count": 21,
   "id": "416d99ed",
   "metadata": {},
   "outputs": [
    {
     "name": "stdout",
     "output_type": "stream",
     "text": [
      "The substring 'Python' occurrences and positions:\n",
      "Occurrence: Python, Position: 0\n",
      "Occurrence: Python, Position: 47\n",
      "Occurrence: Python, Position: 67\n"
     ]
    }
   ],
   "source": [
    "def find_occurrences_positions(text, substring):\n",
    "    start = 0\n",
    "    occurrences = []\n",
    "    while True:\n",
    "        start = text.find(substring, start)\n",
    "        if start == -1:\n",
    "            break\n",
    "        occurrences.append((substring, start))\n",
    "        start += 1\n",
    "    return occurrences\n",
    "\n",
    "# Sample text and substring to find\n",
    "sample_text = 'Python exercises, PHP exercises, C# exercises, Python is great for Pythonistas'\n",
    "substring_to_find = 'Python'\n",
    "\n",
    "# Find occurrences and positions of the substring in the text\n",
    "substrings_occurrences_positions = find_occurrences_positions(sample_text, substring_to_find)\n",
    "if substrings_occurrences_positions:\n",
    "    print(f\"The substring '{substring_to_find}' occurrences and positions:\")\n",
    "    for occurrence, position in substrings_occurrences_positions:\n",
    "        print(f\"Occurrence: {occurrence}, Position: {position}\")\n",
    "else:\n",
    "    print(f\"The substring '{substring_to_find}' is not found in the text.\")\n"
   ]
  },
  {
   "cell_type": "code",
   "execution_count": 22,
   "id": "df643378",
   "metadata": {},
   "outputs": [
    {
     "name": "stdout",
     "output_type": "stream",
     "text": [
      "Input date (yyyy-mm-dd): 2023-01-15\n",
      "Converted date (dd-mm-yyyy): 15-01-2023\n"
     ]
    }
   ],
   "source": [
    "from datetime import datetime\n",
    "\n",
    "def convert_date_format(date_str):\n",
    "    # Convert string to datetime object using the input format yyyy-mm-dd\n",
    "    date_obj = datetime.strptime(date_str, '%Y-%m-%d')\n",
    "\n",
    "    # Convert the datetime object to the desired output format dd-mm-yyyy\n",
    "    new_date_format = date_obj.strftime('%d-%m-%Y')\n",
    "    return new_date_format\n",
    "\n",
    "# Sample date in yyyy-mm-dd format\n",
    "input_date = '2023-01-15'\n",
    "\n",
    "# Convert the date format\n",
    "output_date = convert_date_format(input_date)\n",
    "\n",
    "print(f\"Input date (yyyy-mm-dd): {input_date}\")\n",
    "print(f\"Converted date (dd-mm-yyyy): {output_date}\")\n"
   ]
  },
  {
   "cell_type": "code",
   "execution_count": 23,
   "id": "f4d09092",
   "metadata": {},
   "outputs": [
    {
     "name": "stdout",
     "output_type": "stream",
     "text": [
      "Decimal numbers with precision of 1 or 2: ['01.12', '145.8', '3.01', '27.25', '0.25']\n"
     ]
    }
   ],
   "source": [
    "import re\n",
    "\n",
    "def find_decimal_numbers(text):\n",
    "    pattern = re.compile(r'\\b\\d+\\.\\d{1,2}\\b')\n",
    "    decimal_numbers = pattern.findall(text)\n",
    "    return decimal_numbers\n",
    "\n",
    "# Sample Text\n",
    "sample_text = \"01.12 0132.123 2.31875 145.8 3.01 27.25 0.25\"\n",
    "\n",
    "# Find decimal numbers with precision of 1 or 2 in the text\n",
    "result = find_decimal_numbers(sample_text)\n",
    "print(\"Decimal numbers with precision of 1 or 2:\", result)\n"
   ]
  },
  {
   "cell_type": "code",
   "execution_count": 24,
   "id": "d7acc185",
   "metadata": {},
   "outputs": [
    {
     "name": "stdout",
     "output_type": "stream",
     "text": [
      "Numbers found: ['1', '2', '3', '4', '5', '6', '7', '8', '9']\n",
      "Positions of numbers: [3, 4, 5, 9, 10, 11, 15, 16, 17]\n"
     ]
    }
   ],
   "source": [
    "def separate_numbers_positions(text):\n",
    "    numbers = []\n",
    "    positions = []\n",
    "    \n",
    "    for index, char in enumerate(text):\n",
    "        if char.isdigit():\n",
    "            numbers.append(char)\n",
    "            positions.append(index)\n",
    "\n",
    "    return numbers, positions\n",
    "\n",
    "# Sample text\n",
    "sample_text = \"abc123def456ghi789\"\n",
    "\n",
    "# Separate numbers and their positions in the text\n",
    "numbers_found, positions_found = separate_numbers_positions(sample_text)\n",
    "\n",
    "print(\"Numbers found:\", numbers_found)\n",
    "print(\"Positions of numbers:\", positions_found)\n"
   ]
  },
  {
   "cell_type": "code",
   "execution_count": 25,
   "id": "c55e7c3e",
   "metadata": {},
   "outputs": [
    {
     "name": "stdout",
     "output_type": "stream",
     "text": [
      "The maximum numeric value in the text is: 950\n"
     ]
    }
   ],
   "source": [
    "import re\n",
    "\n",
    "def extract_maximum_number(text):\n",
    "    numbers = re.findall(r'\\d+', text)\n",
    "    if numbers:\n",
    "        max_number = max(map(int, numbers))\n",
    "        return max_number\n",
    "    else:\n",
    "        return None\n",
    "\n",
    "# Sample Text\n",
    "sample_text = 'My marks in each semester are: 947, 896, 926, 524, 734, 950, 642'\n",
    "\n",
    "# Extract the maximum numeric value from the text\n",
    "max_numeric_value = extract_maximum_number(sample_text)\n",
    "\n",
    "if max_numeric_value is not None:\n",
    "    print(f\"The maximum numeric value in the text is: {max_numeric_value}\")\n",
    "else:\n",
    "    print(\"No numeric values found in the text.\")\n"
   ]
  },
  {
   "cell_type": "code",
   "execution_count": 26,
   "id": "f2a2586f",
   "metadata": {},
   "outputs": [
    {
     "name": "stdout",
     "output_type": "stream",
     "text": [
      "Modified text with spaces: Regular Expression Is An Important Topic In Python\n"
     ]
    }
   ],
   "source": [
    "def insert_spaces(text):\n",
    "    import re\n",
    "    modified_text = re.sub(r'(?<!^)(?=[A-Z])', ' ', text)\n",
    "    return modified_text\n",
    "\n",
    "# Sample Text\n",
    "sample_text = \"RegularExpressionIsAnImportantTopicInPython\"\n",
    "\n",
    "# Insert spaces between words starting with capital letters\n",
    "result = insert_spaces(sample_text)\n",
    "print(\"Modified text with spaces:\", result)\n"
   ]
  },
  {
   "cell_type": "code",
   "execution_count": 27,
   "id": "5484b5a9",
   "metadata": {},
   "outputs": [
    {
     "name": "stdout",
     "output_type": "stream",
     "text": [
      "Sequences of one uppercase followed by lowercase letters: ['This', 'Is', 'Sample', 'Some', 'Uppercase', 'Lowercase', 'Letters']\n"
     ]
    }
   ],
   "source": [
    "import re\n",
    "\n",
    "def find_uppercase_followed_by_lowercase(text):\n",
    "    pattern = re.compile(r'[A-Z][a-z]+')\n",
    "    sequences = pattern.findall(text)\n",
    "    return sequences\n",
    "\n",
    "# Sample Text\n",
    "sample_text = \"This Is a Sample text with Some Uppercase and Lowercase Letters\"\n",
    "\n",
    "# Find sequences of one uppercase letter followed by lowercase letters\n",
    "result = find_uppercase_followed_by_lowercase(sample_text)\n",
    "print(\"Sequences of one uppercase followed by lowercase letters:\", result)\n"
   ]
  },
  {
   "cell_type": "code",
   "execution_count": 28,
   "id": "aa212395",
   "metadata": {},
   "outputs": [
    {
     "name": "stdout",
     "output_type": "stream",
     "text": [
      "Sentence after removing continuous duplicates: Hello world\n"
     ]
    }
   ],
   "source": [
    "import re\n",
    "\n",
    "def remove_continuous_duplicates(sentence):\n",
    "    cleaned_sentence = re.sub(r'\\b(\\w+)(\\s+\\1)+\\b', r'\\1', sentence, flags=re.IGNORECASE)\n",
    "    return cleaned_sentence\n",
    "\n",
    "# Sample Text\n",
    "sample_text = \"Hello hello world world\"\n",
    "\n",
    "# Remove continuous duplicate words from the sentence\n",
    "result = remove_continuous_duplicates(sample_text)\n",
    "print(\"Sentence after removing continuous duplicates:\", result)\n"
   ]
  },
  {
   "cell_type": "code",
   "execution_count": 29,
   "id": "801bd449",
   "metadata": {},
   "outputs": [
    {
     "name": "stdout",
     "output_type": "stream",
     "text": [
      "String: Hello123, Ends with alphanumeric character: True\n",
      "String: world567, Ends with alphanumeric character: True\n",
      "String: 12345, Ends with alphanumeric character: True\n",
      "String: SomeText@, Ends with alphanumeric character: False\n",
      "String: Alphanumeric1_, Ends with alphanumeric character: True\n",
      "String: Another Example!, Ends with alphanumeric character: False\n"
     ]
    }
   ],
   "source": [
    "import re\n",
    "\n",
    "def ends_with_alphanumeric(text):\n",
    "    pattern = re.compile(r'\\w$')  # \\w matches any alphanumeric character, and $ matches the end of the string\n",
    "    match = pattern.search(text)\n",
    "    return bool(match)\n",
    "\n",
    "# Test strings\n",
    "test_strings = [\n",
    "    \"Hello123\",\n",
    "    \"world567\",\n",
    "    \"12345\",\n",
    "    \"SomeText@\",\n",
    "    \"Alphanumeric1_\",\n",
    "    \"Another Example!\"\n",
    "]\n",
    "\n",
    "for string in test_strings:\n",
    "    result = ends_with_alphanumeric(string)\n",
    "    print(f\"String: {string}, Ends with alphanumeric character: {result}\")\n"
   ]
  },
  {
   "cell_type": "code",
   "execution_count": 30,
   "id": "04fb1e5a",
   "metadata": {},
   "outputs": [
    {
     "name": "stdout",
     "output_type": "stream",
     "text": [
      "Extracted Hashtags:\n",
      "['#Doltiwal', '#xyzabc', '#Demonetization']\n"
     ]
    }
   ],
   "source": [
    "import re\n",
    "\n",
    "def extract_hashtags(text):\n",
    "    hashtags = re.findall(r'#\\w+', text)\n",
    "    return hashtags\n",
    "\n",
    "# Sample Text\n",
    "sample_text = '''RT @kapil_kausik: #Doltiwal I mean #xyzabc is \"hurt\" by #Demonetization as the same has rendered USELESS <ed><U+00A0><U+00BD><ed><U+00B1><U+0089> \"acquired funds\" No wo'''\n",
    "\n",
    "# Extract hashtags from the text\n",
    "extracted_hashtags = extract_hashtags(sample_text)\n",
    "\n",
    "print(\"Extracted Hashtags:\")\n",
    "print(extracted_hashtags)\n"
   ]
  },
  {
   "cell_type": "code",
   "execution_count": 31,
   "id": "cd598ee3",
   "metadata": {},
   "outputs": [
    {
     "name": "stdout",
     "output_type": "stream",
     "text": [
      "Text after removing <U+..> like symbols:\n",
      "@Jags123456 Bharat band on 28??<ed><ed>Those who are protesting #demonetization are all different party leaders\n"
     ]
    }
   ],
   "source": [
    "import re\n",
    "\n",
    "def remove_Uplus_symbols(text):\n",
    "    cleaned_text = re.sub(r'<U\\+[A-Fa-f0-9]+>', '', text)\n",
    "    return cleaned_text\n",
    "\n",
    "# Sample Text\n",
    "sample_text = \"@Jags123456 Bharat band on 28??<ed><U+00A0><U+00BD><ed><U+00B8><U+0082>Those who are protesting #demonetization are all different party leaders\"\n",
    "\n",
    "# Remove <U+..> like symbols from the text\n",
    "cleaned_text = remove_Uplus_symbols(sample_text)\n",
    "print(\"Text after removing <U+..> like symbols:\")\n",
    "print(cleaned_text)\n"
   ]
  },
  {
   "cell_type": "code",
   "execution_count": 32,
   "id": "81df4a5a",
   "metadata": {},
   "outputs": [
    {
     "ename": "FileNotFoundError",
     "evalue": "[Errno 2] No such file or directory: 'sample_text.txt'",
     "output_type": "error",
     "traceback": [
      "\u001b[1;31m---------------------------------------------------------------------------\u001b[0m",
      "\u001b[1;31mFileNotFoundError\u001b[0m                         Traceback (most recent call last)",
      "Cell \u001b[1;32mIn[32], line 13\u001b[0m\n\u001b[0;32m     10\u001b[0m file_path \u001b[38;5;241m=\u001b[39m \u001b[38;5;124m'\u001b[39m\u001b[38;5;124msample_text.txt\u001b[39m\u001b[38;5;124m'\u001b[39m\n\u001b[0;32m     12\u001b[0m \u001b[38;5;66;03m# Extract dates from the text file\u001b[39;00m\n\u001b[1;32m---> 13\u001b[0m extracted_dates \u001b[38;5;241m=\u001b[39m extract_dates_from_file(file_path)\n\u001b[0;32m     15\u001b[0m \u001b[38;5;28mprint\u001b[39m(\u001b[38;5;124m\"\u001b[39m\u001b[38;5;124mExtracted Dates:\u001b[39m\u001b[38;5;124m\"\u001b[39m)\n\u001b[0;32m     16\u001b[0m \u001b[38;5;28mprint\u001b[39m(extracted_dates)\n",
      "Cell \u001b[1;32mIn[32], line 4\u001b[0m, in \u001b[0;36mextract_dates_from_file\u001b[1;34m(file_path)\u001b[0m\n\u001b[0;32m      3\u001b[0m \u001b[38;5;28;01mdef\u001b[39;00m \u001b[38;5;21mextract_dates_from_file\u001b[39m(file_path):\n\u001b[1;32m----> 4\u001b[0m     \u001b[38;5;28;01mwith\u001b[39;00m \u001b[38;5;28mopen\u001b[39m(file_path, \u001b[38;5;124m'\u001b[39m\u001b[38;5;124mr\u001b[39m\u001b[38;5;124m'\u001b[39m) \u001b[38;5;28;01mas\u001b[39;00m file:\n\u001b[0;32m      5\u001b[0m         text \u001b[38;5;241m=\u001b[39m file\u001b[38;5;241m.\u001b[39mread()\n\u001b[0;32m      6\u001b[0m         dates \u001b[38;5;241m=\u001b[39m re\u001b[38;5;241m.\u001b[39mfindall(\u001b[38;5;124mr\u001b[39m\u001b[38;5;124m'\u001b[39m\u001b[38;5;124m\\\u001b[39m\u001b[38;5;124mb\u001b[39m\u001b[38;5;124m\\\u001b[39m\u001b[38;5;124md\u001b[39m\u001b[38;5;132;01m{2}\u001b[39;00m\u001b[38;5;124m-\u001b[39m\u001b[38;5;124m\\\u001b[39m\u001b[38;5;124md\u001b[39m\u001b[38;5;132;01m{2}\u001b[39;00m\u001b[38;5;124m-\u001b[39m\u001b[38;5;124m\\\u001b[39m\u001b[38;5;124md\u001b[39m\u001b[38;5;132;01m{4}\u001b[39;00m\u001b[38;5;124m\\\u001b[39m\u001b[38;5;124mb\u001b[39m\u001b[38;5;124m'\u001b[39m, text)\n",
      "File \u001b[1;32m~\\anaconda3\\Lib\\site-packages\\IPython\\core\\interactiveshell.py:286\u001b[0m, in \u001b[0;36m_modified_open\u001b[1;34m(file, *args, **kwargs)\u001b[0m\n\u001b[0;32m    279\u001b[0m \u001b[38;5;28;01mif\u001b[39;00m file \u001b[38;5;129;01min\u001b[39;00m {\u001b[38;5;241m0\u001b[39m, \u001b[38;5;241m1\u001b[39m, \u001b[38;5;241m2\u001b[39m}:\n\u001b[0;32m    280\u001b[0m     \u001b[38;5;28;01mraise\u001b[39;00m \u001b[38;5;167;01mValueError\u001b[39;00m(\n\u001b[0;32m    281\u001b[0m         \u001b[38;5;124mf\u001b[39m\u001b[38;5;124m\"\u001b[39m\u001b[38;5;124mIPython won\u001b[39m\u001b[38;5;124m'\u001b[39m\u001b[38;5;124mt let you open fd=\u001b[39m\u001b[38;5;132;01m{\u001b[39;00mfile\u001b[38;5;132;01m}\u001b[39;00m\u001b[38;5;124m by default \u001b[39m\u001b[38;5;124m\"\u001b[39m\n\u001b[0;32m    282\u001b[0m         \u001b[38;5;124m\"\u001b[39m\u001b[38;5;124mas it is likely to crash IPython. If you know what you are doing, \u001b[39m\u001b[38;5;124m\"\u001b[39m\n\u001b[0;32m    283\u001b[0m         \u001b[38;5;124m\"\u001b[39m\u001b[38;5;124myou can use builtins\u001b[39m\u001b[38;5;124m'\u001b[39m\u001b[38;5;124m open.\u001b[39m\u001b[38;5;124m\"\u001b[39m\n\u001b[0;32m    284\u001b[0m     )\n\u001b[1;32m--> 286\u001b[0m \u001b[38;5;28;01mreturn\u001b[39;00m io_open(file, \u001b[38;5;241m*\u001b[39margs, \u001b[38;5;241m*\u001b[39m\u001b[38;5;241m*\u001b[39mkwargs)\n",
      "\u001b[1;31mFileNotFoundError\u001b[0m: [Errno 2] No such file or directory: 'sample_text.txt'"
     ]
    }
   ],
   "source": [
    "import re\n",
    "\n",
    "def extract_dates_from_file(file_path):\n",
    "    with open(file_path, 'r') as file:\n",
    "        text = file.read()\n",
    "        dates = re.findall(r'\\b\\d{2}-\\d{2}-\\d{4}\\b', text)\n",
    "        return dates\n",
    "\n",
    "# File path containing the text\n",
    "file_path = 'sample_text.txt'\n",
    "\n",
    "# Extract dates from the text file\n",
    "extracted_dates = extract_dates_from_file(file_path)\n",
    "\n",
    "print(\"Extracted Dates:\")\n",
    "print(extracted_dates)\n"
   ]
  },
  {
   "cell_type": "code",
   "execution_count": 33,
   "id": "7ddaca4f",
   "metadata": {},
   "outputs": [
    {
     "name": "stdout",
     "output_type": "stream",
     "text": [
      "Text after removing words of length between 2 and 4:\n",
      " following example creates  ArrayList  a capacity   elements. 4 elements   added   ArrayList   ArrayList  trimmed accordingly.\n"
     ]
    }
   ],
   "source": [
    "import re\n",
    "\n",
    "def remove_words_length_between_2_and_4(text):\n",
    "    pattern = re.compile(r'\\b\\w{2,4}\\b')\n",
    "    cleaned_text = pattern.sub('', text)\n",
    "    return cleaned_text\n",
    "\n",
    "# Sample Text\n",
    "sample_text = \"The following example creates an ArrayList with a capacity of 50 elements. 4 elements are then added to the ArrayList and the ArrayList is trimmed accordingly.\"\n",
    "\n",
    "# Remove words of length between 2 and 4 from the text\n",
    "cleaned_text = remove_words_length_between_2_and_4(sample_text)\n",
    "print(\"Text after removing words of length between 2 and 4:\")\n",
    "print(cleaned_text)\n"
   ]
  },
  {
   "cell_type": "code",
   "execution_count": null,
   "id": "974c2f6e",
   "metadata": {},
   "outputs": [],
   "source": []
  }
 ],
 "metadata": {
  "kernelspec": {
   "display_name": "Python 3 (ipykernel)",
   "language": "python",
   "name": "python3"
  },
  "language_info": {
   "codemirror_mode": {
    "name": "ipython",
    "version": 3
   },
   "file_extension": ".py",
   "mimetype": "text/x-python",
   "name": "python",
   "nbconvert_exporter": "python",
   "pygments_lexer": "ipython3",
   "version": "3.11.5"
  }
 },
 "nbformat": 4,
 "nbformat_minor": 5
}
